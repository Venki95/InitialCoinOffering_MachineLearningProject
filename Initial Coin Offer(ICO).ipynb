{
 "cells": [
  {
   "cell_type": "markdown",
   "id": "fb2ec2f2",
   "metadata": {},
   "source": [
    "## Import Libaries"
   ]
  },
  {
   "cell_type": "code",
   "execution_count": 1,
   "id": "684e4b16",
   "metadata": {},
   "outputs": [],
   "source": [
    "import pandas as pd\n",
    "import numpy as np\n",
    "import matplotlib.pyplot as plt\n",
    "import seaborn as sns\n",
    "import warnings\n",
    "warnings.filterwarnings('ignore')"
   ]
  },
  {
   "cell_type": "markdown",
   "id": "265a06c6",
   "metadata": {},
   "source": [
    "## Import Dataset "
   ]
  },
  {
   "cell_type": "code",
   "execution_count": 2,
   "id": "2f8ef152",
   "metadata": {},
   "outputs": [],
   "source": [
    "ico_data = pd.read_csv(\"Data Set.csv\")"
   ]
  },
  {
   "cell_type": "code",
   "execution_count": 3,
   "id": "84c70b64",
   "metadata": {},
   "outputs": [
    {
     "data": {
      "text/html": [
       "<div>\n",
       "<style scoped>\n",
       "    .dataframe tbody tr th:only-of-type {\n",
       "        vertical-align: middle;\n",
       "    }\n",
       "\n",
       "    .dataframe tbody tr th {\n",
       "        vertical-align: top;\n",
       "    }\n",
       "\n",
       "    .dataframe thead th {\n",
       "        text-align: right;\n",
       "    }\n",
       "</style>\n",
       "<table border=\"1\" class=\"dataframe\">\n",
       "  <thead>\n",
       "    <tr style=\"text-align: right;\">\n",
       "      <th></th>\n",
       "      <th>ID</th>\n",
       "      <th>goal</th>\n",
       "      <th>enddate</th>\n",
       "      <th>startdate</th>\n",
       "      <th>coinNum</th>\n",
       "      <th>teamSize</th>\n",
       "      <th>country_region</th>\n",
       "      <th>categories</th>\n",
       "      <th>overallrating</th>\n",
       "      <th>ratingTeam</th>\n",
       "      <th>ratingProduct</th>\n",
       "      <th>platform</th>\n",
       "      <th>acceptingCurrencyNum</th>\n",
       "      <th>whitepaper</th>\n",
       "      <th>video</th>\n",
       "      <th>socialMedia</th>\n",
       "      <th>GitHub</th>\n",
       "      <th>teamLinkedIn</th>\n",
       "      <th>teamPhotos</th>\n",
       "      <th>CEOPhoto</th>\n",
       "    </tr>\n",
       "  </thead>\n",
       "  <tbody>\n",
       "    <tr>\n",
       "      <th>0</th>\n",
       "      <td>1</td>\n",
       "      <td>N</td>\n",
       "      <td>15-04-2018</td>\n",
       "      <td>01-03-2018</td>\n",
       "      <td>1.275000e+07</td>\n",
       "      <td>14</td>\n",
       "      <td>Estonia</td>\n",
       "      <td>Charity,Education,Health,Smart Contract</td>\n",
       "      <td>2.6</td>\n",
       "      <td>2.4</td>\n",
       "      <td>2.4</td>\n",
       "      <td>Ethereum</td>\n",
       "      <td>1</td>\n",
       "      <td>1</td>\n",
       "      <td>1</td>\n",
       "      <td>0</td>\n",
       "      <td>0</td>\n",
       "      <td>86%</td>\n",
       "      <td>100%</td>\n",
       "      <td>0</td>\n",
       "    </tr>\n",
       "    <tr>\n",
       "      <th>1</th>\n",
       "      <td>2</td>\n",
       "      <td>N</td>\n",
       "      <td>25-08-2017</td>\n",
       "      <td>25-07-2017</td>\n",
       "      <td>0.000000e+00</td>\n",
       "      <td>13</td>\n",
       "      <td>Singapore</td>\n",
       "      <td>Infrastructure</td>\n",
       "      <td>2.1</td>\n",
       "      <td>0.0</td>\n",
       "      <td>0.0</td>\n",
       "      <td>unknown</td>\n",
       "      <td>1</td>\n",
       "      <td>1</td>\n",
       "      <td>1</td>\n",
       "      <td>0</td>\n",
       "      <td>1</td>\n",
       "      <td>0%</td>\n",
       "      <td>100%</td>\n",
       "      <td>0</td>\n",
       "    </tr>\n",
       "    <tr>\n",
       "      <th>2</th>\n",
       "      <td>3</td>\n",
       "      <td>Y</td>\n",
       "      <td>23-11-2017</td>\n",
       "      <td>18-11-2017</td>\n",
       "      <td>2.220000e+09</td>\n",
       "      <td>9</td>\n",
       "      <td>Singapore</td>\n",
       "      <td>Platform,Business services</td>\n",
       "      <td>2.5</td>\n",
       "      <td>0.0</td>\n",
       "      <td>0.0</td>\n",
       "      <td>Ethereum</td>\n",
       "      <td>unknown</td>\n",
       "      <td>1</td>\n",
       "      <td>0</td>\n",
       "      <td>3</td>\n",
       "      <td>0</td>\n",
       "      <td>0%</td>\n",
       "      <td>100%</td>\n",
       "      <td>0</td>\n",
       "    </tr>\n",
       "    <tr>\n",
       "      <th>3</th>\n",
       "      <td>4</td>\n",
       "      <td>Y</td>\n",
       "      <td>18-05-2018</td>\n",
       "      <td>22-04-2018</td>\n",
       "      <td>4.500000e+07</td>\n",
       "      <td>7</td>\n",
       "      <td>Mexico</td>\n",
       "      <td>Internet,Infrastructure,Cryptocurrency,Busines...</td>\n",
       "      <td>2.1</td>\n",
       "      <td>1.0</td>\n",
       "      <td>2.0</td>\n",
       "      <td>Ethereum</td>\n",
       "      <td>2</td>\n",
       "      <td>1</td>\n",
       "      <td>0</td>\n",
       "      <td>0</td>\n",
       "      <td>0</td>\n",
       "      <td>0%</td>\n",
       "      <td>100%</td>\n",
       "      <td>1</td>\n",
       "    </tr>\n",
       "    <tr>\n",
       "      <th>4</th>\n",
       "      <td>5</td>\n",
       "      <td>Y</td>\n",
       "      <td>02-02-2018</td>\n",
       "      <td>01-02-2018</td>\n",
       "      <td>8.000000e+07</td>\n",
       "      <td>20</td>\n",
       "      <td>Gibraltar</td>\n",
       "      <td>Platform,Infrastructure,Energy</td>\n",
       "      <td>4.3</td>\n",
       "      <td>4.4</td>\n",
       "      <td>4.0</td>\n",
       "      <td>Ethereum</td>\n",
       "      <td>1</td>\n",
       "      <td>1</td>\n",
       "      <td>1</td>\n",
       "      <td>2</td>\n",
       "      <td>1</td>\n",
       "      <td>100%</td>\n",
       "      <td>100%</td>\n",
       "      <td>0</td>\n",
       "    </tr>\n",
       "  </tbody>\n",
       "</table>\n",
       "</div>"
      ],
      "text/plain": [
       "   ID goal     enddate   startdate       coinNum  teamSize country_region  \\\n",
       "0   1    N  15-04-2018  01-03-2018  1.275000e+07        14        Estonia   \n",
       "1   2    N  25-08-2017  25-07-2017  0.000000e+00        13      Singapore   \n",
       "2   3    Y  23-11-2017  18-11-2017  2.220000e+09         9      Singapore   \n",
       "3   4    Y  18-05-2018  22-04-2018  4.500000e+07         7         Mexico   \n",
       "4   5    Y  02-02-2018  01-02-2018  8.000000e+07        20      Gibraltar   \n",
       "\n",
       "                                          categories  overallrating  \\\n",
       "0            Charity,Education,Health,Smart Contract            2.6   \n",
       "1                                     Infrastructure            2.1   \n",
       "2                         Platform,Business services            2.5   \n",
       "3  Internet,Infrastructure,Cryptocurrency,Busines...            2.1   \n",
       "4                     Platform,Infrastructure,Energy            4.3   \n",
       "\n",
       "   ratingTeam  ratingProduct  platform acceptingCurrencyNum  whitepaper  \\\n",
       "0         2.4            2.4  Ethereum                    1           1   \n",
       "1         0.0            0.0   unknown                    1           1   \n",
       "2         0.0            0.0  Ethereum              unknown           1   \n",
       "3         1.0            2.0  Ethereum                    2           1   \n",
       "4         4.4            4.0  Ethereum                    1           1   \n",
       "\n",
       "   video  socialMedia  GitHub teamLinkedIn teamPhotos  CEOPhoto  \n",
       "0      1            0       0          86%       100%         0  \n",
       "1      1            0       1           0%       100%         0  \n",
       "2      0            3       0           0%       100%         0  \n",
       "3      0            0       0           0%       100%         1  \n",
       "4      1            2       1         100%       100%         0  "
      ]
     },
     "execution_count": 3,
     "metadata": {},
     "output_type": "execute_result"
    }
   ],
   "source": [
    "ico_data.head()"
   ]
  },
  {
   "cell_type": "code",
   "execution_count": 4,
   "id": "dc73a444",
   "metadata": {},
   "outputs": [
    {
     "name": "stdout",
     "output_type": "stream",
     "text": [
      "<class 'pandas.core.frame.DataFrame'>\n",
      "RangeIndex: 1181 entries, 0 to 1180\n",
      "Data columns (total 20 columns):\n",
      " #   Column                Non-Null Count  Dtype  \n",
      "---  ------                --------------  -----  \n",
      " 0   ID                    1181 non-null   int64  \n",
      " 1   goal                  1181 non-null   object \n",
      " 2   enddate               1181 non-null   object \n",
      " 3   startdate             1181 non-null   object \n",
      " 4   coinNum               1181 non-null   float64\n",
      " 5   teamSize              1181 non-null   int64  \n",
      " 6   country_region        1181 non-null   object \n",
      " 7   categories            1181 non-null   object \n",
      " 8   overallrating         1181 non-null   float64\n",
      " 9   ratingTeam            1181 non-null   float64\n",
      " 10  ratingProduct         1181 non-null   float64\n",
      " 11  platform              1181 non-null   object \n",
      " 12  acceptingCurrencyNum  1181 non-null   object \n",
      " 13  whitepaper            1181 non-null   int64  \n",
      " 14  video                 1181 non-null   int64  \n",
      " 15  socialMedia           1181 non-null   int64  \n",
      " 16  GitHub                1181 non-null   int64  \n",
      " 17  teamLinkedIn          1181 non-null   object \n",
      " 18  teamPhotos            1181 non-null   object \n",
      " 19  CEOPhoto              1181 non-null   int64  \n",
      "dtypes: float64(4), int64(7), object(9)\n",
      "memory usage: 184.7+ KB\n"
     ]
    }
   ],
   "source": [
    "ico_data.info()"
   ]
  },
  {
   "cell_type": "markdown",
   "id": "1076d366",
   "metadata": {},
   "source": [
    "## Handing Missing Data"
   ]
  },
  {
   "cell_type": "code",
   "execution_count": 5,
   "id": "4293f8a0",
   "metadata": {},
   "outputs": [
    {
     "data": {
      "text/plain": [
       "ID                      0\n",
       "goal                    0\n",
       "enddate                 0\n",
       "startdate               0\n",
       "coinNum                 0\n",
       "teamSize                0\n",
       "country_region          0\n",
       "categories              0\n",
       "overallrating           0\n",
       "ratingTeam              0\n",
       "ratingProduct           0\n",
       "platform                0\n",
       "acceptingCurrencyNum    0\n",
       "whitepaper              0\n",
       "video                   0\n",
       "socialMedia             0\n",
       "GitHub                  0\n",
       "teamLinkedIn            0\n",
       "teamPhotos              0\n",
       "CEOPhoto                0\n",
       "dtype: int64"
      ]
     },
     "execution_count": 5,
     "metadata": {},
     "output_type": "execute_result"
    }
   ],
   "source": [
    "ico_data.isnull().sum()"
   ]
  },
  {
   "cell_type": "code",
   "execution_count": 6,
   "id": "9bc4424a",
   "metadata": {},
   "outputs": [
    {
     "data": {
      "text/plain": [
       "(1181, 20)"
      ]
     },
     "execution_count": 6,
     "metadata": {},
     "output_type": "execute_result"
    }
   ],
   "source": [
    "ico_data.shape"
   ]
  },
  {
   "cell_type": "markdown",
   "id": "35045dde",
   "metadata": {},
   "source": [
    "## Encoding Categorial Data"
   ]
  },
  {
   "cell_type": "code",
   "execution_count": 7,
   "id": "fee8d125",
   "metadata": {},
   "outputs": [],
   "source": [
    "from sklearn.preprocessing import LabelEncoder"
   ]
  },
  {
   "cell_type": "code",
   "execution_count": 8,
   "id": "352d6b8c",
   "metadata": {},
   "outputs": [],
   "source": [
    "label = LabelEncoder()\n",
    "ico_data['goal'] = label.fit_transform(ico_data['goal'])\n",
    "ico_data['enddate'] = label.fit_transform(ico_data['enddate'])\n",
    "ico_data['startdate'] = label.fit_transform(ico_data['startdate'])\n",
    "ico_data['country_region'] = label.fit_transform(ico_data['country_region'])\n",
    "ico_data['categories'] = label.fit_transform(ico_data['categories'])\n",
    "ico_data['platform'] = label.fit_transform(ico_data['platform'])\n",
    "ico_data['acceptingCurrencyNum'] = label.fit_transform(ico_data['acceptingCurrencyNum'])\n",
    "ico_data['teamLinkedIn'] = label.fit_transform(ico_data['teamLinkedIn'])\n",
    "ico_data['teamPhotos'] = label.fit_transform(ico_data['teamPhotos'])"
   ]
  },
  {
   "cell_type": "code",
   "execution_count": 9,
   "id": "067bce7c",
   "metadata": {},
   "outputs": [
    {
     "data": {
      "text/html": [
       "<div>\n",
       "<style scoped>\n",
       "    .dataframe tbody tr th:only-of-type {\n",
       "        vertical-align: middle;\n",
       "    }\n",
       "\n",
       "    .dataframe tbody tr th {\n",
       "        vertical-align: top;\n",
       "    }\n",
       "\n",
       "    .dataframe thead th {\n",
       "        text-align: right;\n",
       "    }\n",
       "</style>\n",
       "<table border=\"1\" class=\"dataframe\">\n",
       "  <thead>\n",
       "    <tr style=\"text-align: right;\">\n",
       "      <th></th>\n",
       "      <th>ID</th>\n",
       "      <th>goal</th>\n",
       "      <th>enddate</th>\n",
       "      <th>startdate</th>\n",
       "      <th>coinNum</th>\n",
       "      <th>teamSize</th>\n",
       "      <th>country_region</th>\n",
       "      <th>categories</th>\n",
       "      <th>overallrating</th>\n",
       "      <th>ratingTeam</th>\n",
       "      <th>ratingProduct</th>\n",
       "      <th>platform</th>\n",
       "      <th>acceptingCurrencyNum</th>\n",
       "      <th>whitepaper</th>\n",
       "      <th>video</th>\n",
       "      <th>socialMedia</th>\n",
       "      <th>GitHub</th>\n",
       "      <th>teamLinkedIn</th>\n",
       "      <th>teamPhotos</th>\n",
       "      <th>CEOPhoto</th>\n",
       "    </tr>\n",
       "  </thead>\n",
       "  <tbody>\n",
       "    <tr>\n",
       "      <th>0</th>\n",
       "      <td>1</td>\n",
       "      <td>0</td>\n",
       "      <td>140</td>\n",
       "      <td>2</td>\n",
       "      <td>1.275000e+07</td>\n",
       "      <td>14</td>\n",
       "      <td>27</td>\n",
       "      <td>158</td>\n",
       "      <td>2.6</td>\n",
       "      <td>2.4</td>\n",
       "      <td>2.4</td>\n",
       "      <td>13</td>\n",
       "      <td>0</td>\n",
       "      <td>1</td>\n",
       "      <td>1</td>\n",
       "      <td>0</td>\n",
       "      <td>0</td>\n",
       "      <td>67</td>\n",
       "      <td>1</td>\n",
       "      <td>0</td>\n",
       "    </tr>\n",
       "    <tr>\n",
       "      <th>1</th>\n",
       "      <td>2</td>\n",
       "      <td>0</td>\n",
       "      <td>246</td>\n",
       "      <td>255</td>\n",
       "      <td>0.000000e+00</td>\n",
       "      <td>13</td>\n",
       "      <td>81</td>\n",
       "      <td>310</td>\n",
       "      <td>2.1</td>\n",
       "      <td>0.0</td>\n",
       "      <td>0.0</td>\n",
       "      <td>49</td>\n",
       "      <td>0</td>\n",
       "      <td>1</td>\n",
       "      <td>1</td>\n",
       "      <td>0</td>\n",
       "      <td>1</td>\n",
       "      <td>0</td>\n",
       "      <td>1</td>\n",
       "      <td>0</td>\n",
       "    </tr>\n",
       "    <tr>\n",
       "      <th>2</th>\n",
       "      <td>3</td>\n",
       "      <td>1</td>\n",
       "      <td>226</td>\n",
       "      <td>184</td>\n",
       "      <td>2.220000e+09</td>\n",
       "      <td>9</td>\n",
       "      <td>81</td>\n",
       "      <td>397</td>\n",
       "      <td>2.5</td>\n",
       "      <td>0.0</td>\n",
       "      <td>0.0</td>\n",
       "      <td>13</td>\n",
       "      <td>11</td>\n",
       "      <td>1</td>\n",
       "      <td>0</td>\n",
       "      <td>3</td>\n",
       "      <td>0</td>\n",
       "      <td>0</td>\n",
       "      <td>1</td>\n",
       "      <td>0</td>\n",
       "    </tr>\n",
       "    <tr>\n",
       "      <th>3</th>\n",
       "      <td>4</td>\n",
       "      <td>1</td>\n",
       "      <td>174</td>\n",
       "      <td>225</td>\n",
       "      <td>4.500000e+07</td>\n",
       "      <td>7</td>\n",
       "      <td>58</td>\n",
       "      <td>329</td>\n",
       "      <td>2.1</td>\n",
       "      <td>1.0</td>\n",
       "      <td>2.0</td>\n",
       "      <td>13</td>\n",
       "      <td>3</td>\n",
       "      <td>1</td>\n",
       "      <td>0</td>\n",
       "      <td>0</td>\n",
       "      <td>0</td>\n",
       "      <td>0</td>\n",
       "      <td>1</td>\n",
       "      <td>1</td>\n",
       "    </tr>\n",
       "    <tr>\n",
       "      <th>4</th>\n",
       "      <td>5</td>\n",
       "      <td>1</td>\n",
       "      <td>13</td>\n",
       "      <td>1</td>\n",
       "      <td>8.000000e+07</td>\n",
       "      <td>20</td>\n",
       "      <td>32</td>\n",
       "      <td>465</td>\n",
       "      <td>4.3</td>\n",
       "      <td>4.4</td>\n",
       "      <td>4.0</td>\n",
       "      <td>13</td>\n",
       "      <td>0</td>\n",
       "      <td>1</td>\n",
       "      <td>1</td>\n",
       "      <td>2</td>\n",
       "      <td>1</td>\n",
       "      <td>1</td>\n",
       "      <td>1</td>\n",
       "      <td>0</td>\n",
       "    </tr>\n",
       "  </tbody>\n",
       "</table>\n",
       "</div>"
      ],
      "text/plain": [
       "   ID  goal  enddate  startdate       coinNum  teamSize  country_region  \\\n",
       "0   1     0      140          2  1.275000e+07        14              27   \n",
       "1   2     0      246        255  0.000000e+00        13              81   \n",
       "2   3     1      226        184  2.220000e+09         9              81   \n",
       "3   4     1      174        225  4.500000e+07         7              58   \n",
       "4   5     1       13          1  8.000000e+07        20              32   \n",
       "\n",
       "   categories  overallrating  ratingTeam  ratingProduct  platform  \\\n",
       "0         158            2.6         2.4            2.4        13   \n",
       "1         310            2.1         0.0            0.0        49   \n",
       "2         397            2.5         0.0            0.0        13   \n",
       "3         329            2.1         1.0            2.0        13   \n",
       "4         465            4.3         4.4            4.0        13   \n",
       "\n",
       "   acceptingCurrencyNum  whitepaper  video  socialMedia  GitHub  teamLinkedIn  \\\n",
       "0                     0           1      1            0       0            67   \n",
       "1                     0           1      1            0       1             0   \n",
       "2                    11           1      0            3       0             0   \n",
       "3                     3           1      0            0       0             0   \n",
       "4                     0           1      1            2       1             1   \n",
       "\n",
       "   teamPhotos  CEOPhoto  \n",
       "0           1         0  \n",
       "1           1         0  \n",
       "2           1         0  \n",
       "3           1         1  \n",
       "4           1         0  "
      ]
     },
     "execution_count": 9,
     "metadata": {},
     "output_type": "execute_result"
    }
   ],
   "source": [
    "ico_data.head()"
   ]
  },
  {
   "cell_type": "code",
   "execution_count": 10,
   "id": "bb8c55a2",
   "metadata": {},
   "outputs": [
    {
     "name": "stdout",
     "output_type": "stream",
     "text": [
      "<class 'pandas.core.frame.DataFrame'>\n",
      "RangeIndex: 1181 entries, 0 to 1180\n",
      "Data columns (total 20 columns):\n",
      " #   Column                Non-Null Count  Dtype  \n",
      "---  ------                --------------  -----  \n",
      " 0   ID                    1181 non-null   int64  \n",
      " 1   goal                  1181 non-null   int32  \n",
      " 2   enddate               1181 non-null   int32  \n",
      " 3   startdate             1181 non-null   int32  \n",
      " 4   coinNum               1181 non-null   float64\n",
      " 5   teamSize              1181 non-null   int64  \n",
      " 6   country_region        1181 non-null   int32  \n",
      " 7   categories            1181 non-null   int32  \n",
      " 8   overallrating         1181 non-null   float64\n",
      " 9   ratingTeam            1181 non-null   float64\n",
      " 10  ratingProduct         1181 non-null   float64\n",
      " 11  platform              1181 non-null   int32  \n",
      " 12  acceptingCurrencyNum  1181 non-null   int32  \n",
      " 13  whitepaper            1181 non-null   int64  \n",
      " 14  video                 1181 non-null   int64  \n",
      " 15  socialMedia           1181 non-null   int64  \n",
      " 16  GitHub                1181 non-null   int64  \n",
      " 17  teamLinkedIn          1181 non-null   int32  \n",
      " 18  teamPhotos            1181 non-null   int32  \n",
      " 19  CEOPhoto              1181 non-null   int64  \n",
      "dtypes: float64(4), int32(9), int64(7)\n",
      "memory usage: 143.1 KB\n"
     ]
    }
   ],
   "source": [
    "ico_data.info()"
   ]
  },
  {
   "cell_type": "markdown",
   "id": "0748d5bd",
   "metadata": {},
   "source": [
    "## Data Visualisation"
   ]
  },
  {
   "cell_type": "code",
   "execution_count": 11,
   "id": "941529e7",
   "metadata": {},
   "outputs": [
    {
     "data": {
      "image/png": "[encoded data removed]",
      "text/plain": [
       "<Figure size 432x288 with 1 Axes>"
      ]
     },
     "metadata": {
      "needs_background": "light"
     },
     "output_type": "display_data"
    }
   ],
   "source": [
    "plt.bar(ico_data['ID'],ico_data['goal'])\n",
    "plt.xlabel('ID for Startup Company')\n",
    "plt.ylabel('Goal')\n",
    "plt.show()"
   ]
  },
  {
   "cell_type": "code",
   "execution_count": 12,
   "id": "b424e2ad",
   "metadata": {},
   "outputs": [
    {
     "data": {
      "image/png": "[encoded data removed]",
      "text/plain": [
       "<Figure size 432x288 with 1 Axes>"
      ]
     },
     "metadata": {
      "needs_background": "light"
     },
     "output_type": "display_data"
    }
   ],
   "source": [
    "x = ico_data['ID']\n",
    "y = ico_data['startdate']\n",
    "plt.scatter(x,y)\n",
    "plt.show()"
   ]
  },
  {
   "cell_type": "code",
   "execution_count": 13,
   "id": "a49856b2",
   "metadata": {},
   "outputs": [
    {
     "data": {
      "image/png": "[encoded data removed]",
      "text/plain": [
       "<Figure size 432x288 with 1 Axes>"
      ]
     },
     "metadata": {
      "needs_background": "light"
     },
     "output_type": "display_data"
    }
   ],
   "source": [
    "x = ico_data['goal']\n",
    "plt.hist(x)\n",
    "plt.show()"
   ]
  },
  {
   "cell_type": "code",
   "execution_count": 14,
   "id": "a5c6d54c",
   "metadata": {},
   "outputs": [
    {
     "data": {
      "text/plain": [
       "<AxesSubplot:xlabel='goal', ylabel='Density'>"
      ]
     },
     "execution_count": 14,
     "metadata": {},
     "output_type": "execute_result"
    },
    {
     "data": {
      "image/png": "[encoded data removed]",
      "text/plain": [
       "<Figure size 432x288 with 1 Axes>"
      ]
     },
     "metadata": {
      "needs_background": "light"
     },
     "output_type": "display_data"
    }
   ],
   "source": [
    "sns.kdeplot(ico_data['goal'])\n",
    "sns.rugplot(ico_data['ID'])"
   ]
  },
  {
   "cell_type": "code",
   "execution_count": 15,
   "id": "0f081b87",
   "metadata": {},
   "outputs": [
    {
     "data": {
      "text/plain": [
       "<AxesSubplot:xlabel='coinNum', ylabel='count'>"
      ]
     },
     "execution_count": 15,
     "metadata": {},
     "output_type": "execute_result"
    },
    {
     "data": {
      "image/png": "[encoded data removed]",
      "text/plain": [
       "<Figure size 432x288 with 1 Axes>"
      ]
     },
     "metadata": {
      "needs_background": "light"
     },
     "output_type": "display_data"
    }
   ],
   "source": [
    "sns.countplot(x=ico_data['coinNum'],data=ico_data)"
   ]
  },
  {
   "cell_type": "code",
   "execution_count": 16,
   "id": "4fb56ca5",
   "metadata": {},
   "outputs": [
    {
     "data": {
      "text/plain": [
       "<AxesSubplot:>"
      ]
     },
     "execution_count": 16,
     "metadata": {},
     "output_type": "execute_result"
    },
    {
     "data": {
      "image/png": "[encoded data removed]",
      "text/plain": [
       "<Figure size 432x288 with 1 Axes>"
      ]
     },
     "metadata": {
      "needs_background": "light"
     },
     "output_type": "display_data"
    }
   ],
   "source": [
    "sns.boxplot(data=ico_data,palette='rainbow',orient='h')"
   ]
  },
  {
   "cell_type": "code",
   "execution_count": 17,
   "id": "614461e0",
   "metadata": {},
   "outputs": [
    {
     "data": {
      "text/plain": [
       "<AxesSubplot:>"
      ]
     },
     "execution_count": 17,
     "metadata": {},
     "output_type": "execute_result"
    },
    {
     "data": {
      "image/png": "[encoded data removed]",
      "text/plain": [
       "<Figure size 432x288 with 2 Axes>"
      ]
     },
     "metadata": {
      "needs_background": "light"
     },
     "output_type": "display_data"
    }
   ],
   "source": [
    "sns.heatmap(ico_data.corr())"
   ]
  },
  {
   "cell_type": "markdown",
   "id": "46dcd096",
   "metadata": {},
   "source": [
    "## Model Selection"
   ]
  },
  {
   "cell_type": "code",
   "execution_count": 18,
   "id": "40bb8a38",
   "metadata": {},
   "outputs": [],
   "source": [
    "x = ico_data.drop(['goal'],axis=1)"
   ]
  },
  {
   "cell_type": "code",
   "execution_count": 19,
   "id": "5321b879",
   "metadata": {},
   "outputs": [
    {
     "data": {
      "text/html": [
       "<div>\n",
       "<style scoped>\n",
       "    .dataframe tbody tr th:only-of-type {\n",
       "        vertical-align: middle;\n",
       "    }\n",
       "\n",
       "    .dataframe tbody tr th {\n",
       "        vertical-align: top;\n",
       "    }\n",
       "\n",
       "    .dataframe thead th {\n",
       "        text-align: right;\n",
       "    }\n",
       "</style>\n",
       "<table border=\"1\" class=\"dataframe\">\n",
       "  <thead>\n",
       "    <tr style=\"text-align: right;\">\n",
       "      <th></th>\n",
       "      <th>ID</th>\n",
       "      <th>enddate</th>\n",
       "      <th>startdate</th>\n",
       "      <th>coinNum</th>\n",
       "      <th>teamSize</th>\n",
       "      <th>country_region</th>\n",
       "      <th>categories</th>\n",
       "      <th>overallrating</th>\n",
       "      <th>ratingTeam</th>\n",
       "      <th>ratingProduct</th>\n",
       "      <th>platform</th>\n",
       "      <th>acceptingCurrencyNum</th>\n",
       "      <th>whitepaper</th>\n",
       "      <th>video</th>\n",
       "      <th>socialMedia</th>\n",
       "      <th>GitHub</th>\n",
       "      <th>teamLinkedIn</th>\n",
       "      <th>teamPhotos</th>\n",
       "      <th>CEOPhoto</th>\n",
       "    </tr>\n",
       "  </thead>\n",
       "  <tbody>\n",
       "    <tr>\n",
       "      <th>0</th>\n",
       "      <td>1</td>\n",
       "      <td>140</td>\n",
       "      <td>2</td>\n",
       "      <td>1.275000e+07</td>\n",
       "      <td>14</td>\n",
       "      <td>27</td>\n",
       "      <td>158</td>\n",
       "      <td>2.6</td>\n",
       "      <td>2.4</td>\n",
       "      <td>2.4</td>\n",
       "      <td>13</td>\n",
       "      <td>0</td>\n",
       "      <td>1</td>\n",
       "      <td>1</td>\n",
       "      <td>0</td>\n",
       "      <td>0</td>\n",
       "      <td>67</td>\n",
       "      <td>1</td>\n",
       "      <td>0</td>\n",
       "    </tr>\n",
       "    <tr>\n",
       "      <th>1</th>\n",
       "      <td>2</td>\n",
       "      <td>246</td>\n",
       "      <td>255</td>\n",
       "      <td>0.000000e+00</td>\n",
       "      <td>13</td>\n",
       "      <td>81</td>\n",
       "      <td>310</td>\n",
       "      <td>2.1</td>\n",
       "      <td>0.0</td>\n",
       "      <td>0.0</td>\n",
       "      <td>49</td>\n",
       "      <td>0</td>\n",
       "      <td>1</td>\n",
       "      <td>1</td>\n",
       "      <td>0</td>\n",
       "      <td>1</td>\n",
       "      <td>0</td>\n",
       "      <td>1</td>\n",
       "      <td>0</td>\n",
       "    </tr>\n",
       "    <tr>\n",
       "      <th>2</th>\n",
       "      <td>3</td>\n",
       "      <td>226</td>\n",
       "      <td>184</td>\n",
       "      <td>2.220000e+09</td>\n",
       "      <td>9</td>\n",
       "      <td>81</td>\n",
       "      <td>397</td>\n",
       "      <td>2.5</td>\n",
       "      <td>0.0</td>\n",
       "      <td>0.0</td>\n",
       "      <td>13</td>\n",
       "      <td>11</td>\n",
       "      <td>1</td>\n",
       "      <td>0</td>\n",
       "      <td>3</td>\n",
       "      <td>0</td>\n",
       "      <td>0</td>\n",
       "      <td>1</td>\n",
       "      <td>0</td>\n",
       "    </tr>\n",
       "    <tr>\n",
       "      <th>3</th>\n",
       "      <td>4</td>\n",
       "      <td>174</td>\n",
       "      <td>225</td>\n",
       "      <td>4.500000e+07</td>\n",
       "      <td>7</td>\n",
       "      <td>58</td>\n",
       "      <td>329</td>\n",
       "      <td>2.1</td>\n",
       "      <td>1.0</td>\n",
       "      <td>2.0</td>\n",
       "      <td>13</td>\n",
       "      <td>3</td>\n",
       "      <td>1</td>\n",
       "      <td>0</td>\n",
       "      <td>0</td>\n",
       "      <td>0</td>\n",
       "      <td>0</td>\n",
       "      <td>1</td>\n",
       "      <td>1</td>\n",
       "    </tr>\n",
       "    <tr>\n",
       "      <th>4</th>\n",
       "      <td>5</td>\n",
       "      <td>13</td>\n",
       "      <td>1</td>\n",
       "      <td>8.000000e+07</td>\n",
       "      <td>20</td>\n",
       "      <td>32</td>\n",
       "      <td>465</td>\n",
       "      <td>4.3</td>\n",
       "      <td>4.4</td>\n",
       "      <td>4.0</td>\n",
       "      <td>13</td>\n",
       "      <td>0</td>\n",
       "      <td>1</td>\n",
       "      <td>1</td>\n",
       "      <td>2</td>\n",
       "      <td>1</td>\n",
       "      <td>1</td>\n",
       "      <td>1</td>\n",
       "      <td>0</td>\n",
       "    </tr>\n",
       "    <tr>\n",
       "      <th>...</th>\n",
       "      <td>...</td>\n",
       "      <td>...</td>\n",
       "      <td>...</td>\n",
       "      <td>...</td>\n",
       "      <td>...</td>\n",
       "      <td>...</td>\n",
       "      <td>...</td>\n",
       "      <td>...</td>\n",
       "      <td>...</td>\n",
       "      <td>...</td>\n",
       "      <td>...</td>\n",
       "      <td>...</td>\n",
       "      <td>...</td>\n",
       "      <td>...</td>\n",
       "      <td>...</td>\n",
       "      <td>...</td>\n",
       "      <td>...</td>\n",
       "      <td>...</td>\n",
       "      <td>...</td>\n",
       "    </tr>\n",
       "    <tr>\n",
       "      <th>1176</th>\n",
       "      <td>1177</td>\n",
       "      <td>244</td>\n",
       "      <td>249</td>\n",
       "      <td>3.000000e+08</td>\n",
       "      <td>14</td>\n",
       "      <td>56</td>\n",
       "      <td>508</td>\n",
       "      <td>2.7</td>\n",
       "      <td>2.6</td>\n",
       "      <td>1.7</td>\n",
       "      <td>13</td>\n",
       "      <td>0</td>\n",
       "      <td>1</td>\n",
       "      <td>1</td>\n",
       "      <td>0</td>\n",
       "      <td>1</td>\n",
       "      <td>74</td>\n",
       "      <td>1</td>\n",
       "      <td>0</td>\n",
       "    </tr>\n",
       "    <tr>\n",
       "      <th>1177</th>\n",
       "      <td>1178</td>\n",
       "      <td>227</td>\n",
       "      <td>163</td>\n",
       "      <td>1.700000e+07</td>\n",
       "      <td>9</td>\n",
       "      <td>31</td>\n",
       "      <td>435</td>\n",
       "      <td>2.3</td>\n",
       "      <td>2.3</td>\n",
       "      <td>1.4</td>\n",
       "      <td>13</td>\n",
       "      <td>0</td>\n",
       "      <td>1</td>\n",
       "      <td>1</td>\n",
       "      <td>0</td>\n",
       "      <td>1</td>\n",
       "      <td>2</td>\n",
       "      <td>1</td>\n",
       "      <td>0</td>\n",
       "    </tr>\n",
       "    <tr>\n",
       "      <th>1178</th>\n",
       "      <td>1179</td>\n",
       "      <td>54</td>\n",
       "      <td>51</td>\n",
       "      <td>6.500000e+08</td>\n",
       "      <td>10</td>\n",
       "      <td>27</td>\n",
       "      <td>24</td>\n",
       "      <td>2.9</td>\n",
       "      <td>0.0</td>\n",
       "      <td>0.0</td>\n",
       "      <td>13</td>\n",
       "      <td>5</td>\n",
       "      <td>1</td>\n",
       "      <td>1</td>\n",
       "      <td>0</td>\n",
       "      <td>1</td>\n",
       "      <td>17</td>\n",
       "      <td>1</td>\n",
       "      <td>0</td>\n",
       "    </tr>\n",
       "    <tr>\n",
       "      <th>1179</th>\n",
       "      <td>1180</td>\n",
       "      <td>268</td>\n",
       "      <td>1</td>\n",
       "      <td>0.000000e+00</td>\n",
       "      <td>7</td>\n",
       "      <td>81</td>\n",
       "      <td>235</td>\n",
       "      <td>2.1</td>\n",
       "      <td>0.0</td>\n",
       "      <td>0.0</td>\n",
       "      <td>49</td>\n",
       "      <td>11</td>\n",
       "      <td>1</td>\n",
       "      <td>0</td>\n",
       "      <td>0</td>\n",
       "      <td>0</td>\n",
       "      <td>0</td>\n",
       "      <td>1</td>\n",
       "      <td>0</td>\n",
       "    </tr>\n",
       "    <tr>\n",
       "      <th>1180</th>\n",
       "      <td>1181</td>\n",
       "      <td>145</td>\n",
       "      <td>151</td>\n",
       "      <td>0.000000e+00</td>\n",
       "      <td>12</td>\n",
       "      <td>43</td>\n",
       "      <td>511</td>\n",
       "      <td>2.5</td>\n",
       "      <td>0.0</td>\n",
       "      <td>0.0</td>\n",
       "      <td>13</td>\n",
       "      <td>0</td>\n",
       "      <td>1</td>\n",
       "      <td>1</td>\n",
       "      <td>0</td>\n",
       "      <td>1</td>\n",
       "      <td>19</td>\n",
       "      <td>1</td>\n",
       "      <td>0</td>\n",
       "    </tr>\n",
       "  </tbody>\n",
       "</table>\n",
       "<p>1181 rows × 19 columns</p>\n",
       "</div>"
      ],
      "text/plain": [
       "        ID  enddate  startdate       coinNum  teamSize  country_region  \\\n",
       "0        1      140          2  1.275000e+07        14              27   \n",
       "1        2      246        255  0.000000e+00        13              81   \n",
       "2        3      226        184  2.220000e+09         9              81   \n",
       "3        4      174        225  4.500000e+07         7              58   \n",
       "4        5       13          1  8.000000e+07        20              32   \n",
       "...    ...      ...        ...           ...       ...             ...   \n",
       "1176  1177      244        249  3.000000e+08        14              56   \n",
       "1177  1178      227        163  1.700000e+07         9              31   \n",
       "1178  1179       54         51  6.500000e+08        10              27   \n",
       "1179  1180      268          1  0.000000e+00         7              81   \n",
       "1180  1181      145        151  0.000000e+00        12              43   \n",
       "\n",
       "      categories  overallrating  ratingTeam  ratingProduct  platform  \\\n",
       "0            158            2.6         2.4            2.4        13   \n",
       "1            310            2.1         0.0            0.0        49   \n",
       "2            397            2.5         0.0            0.0        13   \n",
       "3            329            2.1         1.0            2.0        13   \n",
       "4            465            4.3         4.4            4.0        13   \n",
       "...          ...            ...         ...            ...       ...   \n",
       "1176         508            2.7         2.6            1.7        13   \n",
       "1177         435            2.3         2.3            1.4        13   \n",
       "1178          24            2.9         0.0            0.0        13   \n",
       "1179         235            2.1         0.0            0.0        49   \n",
       "1180         511            2.5         0.0            0.0        13   \n",
       "\n",
       "      acceptingCurrencyNum  whitepaper  video  socialMedia  GitHub  \\\n",
       "0                        0           1      1            0       0   \n",
       "1                        0           1      1            0       1   \n",
       "2                       11           1      0            3       0   \n",
       "3                        3           1      0            0       0   \n",
       "4                        0           1      1            2       1   \n",
       "...                    ...         ...    ...          ...     ...   \n",
       "1176                     0           1      1            0       1   \n",
       "1177                     0           1      1            0       1   \n",
       "1178                     5           1      1            0       1   \n",
       "1179                    11           1      0            0       0   \n",
       "1180                     0           1      1            0       1   \n",
       "\n",
       "      teamLinkedIn  teamPhotos  CEOPhoto  \n",
       "0               67           1         0  \n",
       "1                0           1         0  \n",
       "2                0           1         0  \n",
       "3                0           1         1  \n",
       "4                1           1         0  \n",
       "...            ...         ...       ...  \n",
       "1176            74           1         0  \n",
       "1177             2           1         0  \n",
       "1178            17           1         0  \n",
       "1179             0           1         0  \n",
       "1180            19           1         0  \n",
       "\n",
       "[1181 rows x 19 columns]"
      ]
     },
     "execution_count": 19,
     "metadata": {},
     "output_type": "execute_result"
    }
   ],
   "source": [
    "x"
   ]
  },
  {
   "cell_type": "code",
   "execution_count": 20,
   "id": "95788d58",
   "metadata": {},
   "outputs": [],
   "source": [
    "y = ico_data['goal']"
   ]
  },
  {
   "cell_type": "code",
   "execution_count": 21,
   "id": "8e88dba9",
   "metadata": {},
   "outputs": [
    {
     "data": {
      "text/plain": [
       "0       0\n",
       "1       0\n",
       "2       1\n",
       "3       1\n",
       "4       1\n",
       "       ..\n",
       "1176    0\n",
       "1177    0\n",
       "1178    0\n",
       "1179    0\n",
       "1180    0\n",
       "Name: goal, Length: 1181, dtype: int32"
      ]
     },
     "execution_count": 21,
     "metadata": {},
     "output_type": "execute_result"
    }
   ],
   "source": [
    "y"
   ]
  },
  {
   "cell_type": "markdown",
   "id": "0adbe306",
   "metadata": {},
   "source": [
    "## Split Train and Test"
   ]
  },
  {
   "cell_type": "code",
   "execution_count": 22,
   "id": "df8afcfc",
   "metadata": {},
   "outputs": [],
   "source": [
    "from sklearn.model_selection import train_test_split"
   ]
  },
  {
   "cell_type": "code",
   "execution_count": 23,
   "id": "e5f5f427",
   "metadata": {},
   "outputs": [],
   "source": [
    "x_train,x_test,y_train,y_test = train_test_split(x,y,train_size=0.3,random_state=0)"
   ]
  },
  {
   "cell_type": "code",
   "execution_count": 24,
   "id": "10f2db35",
   "metadata": {},
   "outputs": [
    {
     "data": {
      "text/plain": [
       "354"
      ]
     },
     "execution_count": 24,
     "metadata": {},
     "output_type": "execute_result"
    }
   ],
   "source": [
    "len(x_train)"
   ]
  },
  {
   "cell_type": "code",
   "execution_count": 25,
   "id": "cd01f84b",
   "metadata": {},
   "outputs": [
    {
     "data": {
      "text/plain": [
       "827"
      ]
     },
     "execution_count": 25,
     "metadata": {},
     "output_type": "execute_result"
    }
   ],
   "source": [
    "len(x_test)"
   ]
  },
  {
   "cell_type": "markdown",
   "id": "6d0b5efa",
   "metadata": {},
   "source": [
    "## Logistic Regression"
   ]
  },
  {
   "cell_type": "code",
   "execution_count": 26,
   "id": "1f1f1d47",
   "metadata": {},
   "outputs": [],
   "source": [
    "from sklearn.linear_model import LogisticRegression"
   ]
  },
  {
   "cell_type": "code",
   "execution_count": 27,
   "id": "188fa295",
   "metadata": {},
   "outputs": [],
   "source": [
    "log = LogisticRegression()"
   ]
  },
  {
   "cell_type": "code",
   "execution_count": 28,
   "id": "b986bc88",
   "metadata": {},
   "outputs": [
    {
     "data": {
      "text/plain": [
       "LogisticRegression()"
      ]
     },
     "execution_count": 28,
     "metadata": {},
     "output_type": "execute_result"
    }
   ],
   "source": [
    "log.fit(x_train,y_train)"
   ]
  },
  {
   "cell_type": "code",
   "execution_count": 29,
   "id": "6f2037e8",
   "metadata": {},
   "outputs": [
    {
     "data": {
      "text/plain": [
       "0.5151148730350665"
      ]
     },
     "execution_count": 29,
     "metadata": {},
     "output_type": "execute_result"
    }
   ],
   "source": [
    "log_score = log.score(x_test,y_test)\n",
    "log_score"
   ]
  },
  {
   "cell_type": "markdown",
   "id": "8b266bac",
   "metadata": {},
   "source": [
    "## K-Nearest Neighbors Algorithm"
   ]
  },
  {
   "cell_type": "code",
   "execution_count": 30,
   "id": "1bd7e8f0",
   "metadata": {},
   "outputs": [],
   "source": [
    "from sklearn.neighbors import KNeighborsClassifier"
   ]
  },
  {
   "cell_type": "code",
   "execution_count": 31,
   "id": "4d37ce26",
   "metadata": {},
   "outputs": [],
   "source": [
    "knn = KNeighborsClassifier(n_neighbors=9)"
   ]
  },
  {
   "cell_type": "code",
   "execution_count": 32,
   "id": "75340851",
   "metadata": {},
   "outputs": [
    {
     "data": {
      "text/plain": [
       "KNeighborsClassifier(n_neighbors=9)"
      ]
     },
     "execution_count": 32,
     "metadata": {},
     "output_type": "execute_result"
    }
   ],
   "source": [
    "knn.fit(x_train,y_train)"
   ]
  },
  {
   "cell_type": "code",
   "execution_count": 33,
   "id": "d0e0f63d",
   "metadata": {},
   "outputs": [
    {
     "data": {
      "text/plain": [
       "0.5876662636033857"
      ]
     },
     "execution_count": 33,
     "metadata": {},
     "output_type": "execute_result"
    }
   ],
   "source": [
    "knn_score = knn.score(x_test,y_test)\n",
    "knn_score"
   ]
  },
  {
   "cell_type": "markdown",
   "id": "f0e574ff",
   "metadata": {},
   "source": [
    "## Decision Tree Algorithm"
   ]
  },
  {
   "cell_type": "code",
   "execution_count": 34,
   "id": "d6ad685a",
   "metadata": {},
   "outputs": [],
   "source": [
    "from sklearn.tree import DecisionTreeClassifier"
   ]
  },
  {
   "cell_type": "code",
   "execution_count": 35,
   "id": "136aab4e",
   "metadata": {},
   "outputs": [],
   "source": [
    "tree = DecisionTreeClassifier()"
   ]
  },
  {
   "cell_type": "code",
   "execution_count": 36,
   "id": "47c7f62d",
   "metadata": {},
   "outputs": [
    {
     "data": {
      "text/plain": [
       "DecisionTreeClassifier()"
      ]
     },
     "execution_count": 36,
     "metadata": {},
     "output_type": "execute_result"
    }
   ],
   "source": [
    "tree.fit(x_train,y_train)"
   ]
  },
  {
   "cell_type": "code",
   "execution_count": 37,
   "id": "ae73da84",
   "metadata": {},
   "outputs": [
    {
     "data": {
      "text/plain": [
       "0.6795646916565901"
      ]
     },
     "execution_count": 37,
     "metadata": {},
     "output_type": "execute_result"
    }
   ],
   "source": [
    "tree_score = tree.score(x_test,y_test)\n",
    "tree_score"
   ]
  },
  {
   "cell_type": "markdown",
   "id": "a5ae46e9",
   "metadata": {},
   "source": [
    "## Random Forest Algorithm"
   ]
  },
  {
   "cell_type": "code",
   "execution_count": 38,
   "id": "f3c4636c",
   "metadata": {},
   "outputs": [],
   "source": [
    "from sklearn.ensemble import RandomForestClassifier"
   ]
  },
  {
   "cell_type": "code",
   "execution_count": 39,
   "id": "5b89910d",
   "metadata": {},
   "outputs": [],
   "source": [
    "random = RandomForestClassifier()"
   ]
  },
  {
   "cell_type": "code",
   "execution_count": 40,
   "id": "62d4d296",
   "metadata": {},
   "outputs": [
    {
     "data": {
      "text/plain": [
       "RandomForestClassifier()"
      ]
     },
     "execution_count": 40,
     "metadata": {},
     "output_type": "execute_result"
    }
   ],
   "source": [
    "random.fit(x_train,y_train)"
   ]
  },
  {
   "cell_type": "code",
   "execution_count": 41,
   "id": "ef2953ff",
   "metadata": {},
   "outputs": [
    {
     "data": {
      "text/plain": [
       "0.7448609431680774"
      ]
     },
     "execution_count": 41,
     "metadata": {},
     "output_type": "execute_result"
    }
   ],
   "source": [
    "random_score = random.score(x_test,y_test)\n",
    "random_score"
   ]
  },
  {
   "cell_type": "markdown",
   "id": "ffb6a6d8",
   "metadata": {},
   "source": [
    "## Support Vector Machine"
   ]
  },
  {
   "cell_type": "code",
   "execution_count": 42,
   "id": "090d18f0",
   "metadata": {},
   "outputs": [],
   "source": [
    "from sklearn.svm import SVC"
   ]
  },
  {
   "cell_type": "code",
   "execution_count": 43,
   "id": "ea06eb58",
   "metadata": {},
   "outputs": [],
   "source": [
    "svm = SVC()"
   ]
  },
  {
   "cell_type": "code",
   "execution_count": 44,
   "id": "2cb5a6b7",
   "metadata": {},
   "outputs": [
    {
     "data": {
      "text/plain": [
       "SVC()"
      ]
     },
     "execution_count": 44,
     "metadata": {},
     "output_type": "execute_result"
    }
   ],
   "source": [
    "svm.fit(x_train,y_train)"
   ]
  },
  {
   "cell_type": "code",
   "execution_count": 45,
   "id": "14cb37bf",
   "metadata": {},
   "outputs": [
    {
     "data": {
      "text/plain": [
       "0.5163240628778718"
      ]
     },
     "execution_count": 45,
     "metadata": {},
     "output_type": "execute_result"
    }
   ],
   "source": [
    "svm_score = svm.score(x_test,y_test)\n",
    "svm_score"
   ]
  },
  {
   "cell_type": "markdown",
   "id": "4aa4b667",
   "metadata": {},
   "source": [
    "## Naive Bayes"
   ]
  },
  {
   "cell_type": "code",
   "execution_count": 46,
   "id": "3f2c5d24",
   "metadata": {},
   "outputs": [],
   "source": [
    "from sklearn.naive_bayes import GaussianNB"
   ]
  },
  {
   "cell_type": "code",
   "execution_count": 47,
   "id": "59bab92b",
   "metadata": {},
   "outputs": [],
   "source": [
    "naive = GaussianNB()"
   ]
  },
  {
   "cell_type": "code",
   "execution_count": 48,
   "id": "0faab59d",
   "metadata": {},
   "outputs": [
    {
     "data": {
      "text/plain": [
       "GaussianNB()"
      ]
     },
     "execution_count": 48,
     "metadata": {},
     "output_type": "execute_result"
    }
   ],
   "source": [
    "naive.fit(x_train,y_train)"
   ]
  },
  {
   "cell_type": "code",
   "execution_count": 49,
   "id": "47eb449a",
   "metadata": {},
   "outputs": [
    {
     "data": {
      "text/plain": [
       "0.5151148730350665"
      ]
     },
     "execution_count": 49,
     "metadata": {},
     "output_type": "execute_result"
    }
   ],
   "source": [
    "naive_score = naive.score(x_test,y_test)\n",
    "naive_score"
   ]
  },
  {
   "cell_type": "markdown",
   "id": "e477066c",
   "metadata": {},
   "source": [
    "## Comparison All Models "
   ]
  },
  {
   "cell_type": "code",
   "execution_count": 50,
   "id": "09dce8a7",
   "metadata": {},
   "outputs": [
    {
     "data": {
      "image/png": "[encoded data removed]",
      "text/plain": [
       "<Figure size 432x288 with 1 Axes>"
      ]
     },
     "metadata": {
      "needs_background": "light"
     },
     "output_type": "display_data"
    }
   ],
   "source": [
    "log_model = log_score\n",
    "knn_model = knn_score\n",
    "tree_model = tree_score\n",
    "random_model = random_score\n",
    "svm_model = svm_score\n",
    "naive_model = naive_score\n",
    "plt.hist(log_model,color='Green')\n",
    "plt.hist(knn_model,color='Blue')\n",
    "plt.hist(tree_model,color='Red')\n",
    "plt.hist(random_model,color='Orange')\n",
    "plt.hist(svm_model,color='skyblue')\n",
    "plt.hist(naive_model,color='Black')\n",
    "plt.title(\"Logistic vs KNN vs Decision Tree vs Random Forest vs SVM vs Naive Bayes Algorithm\")\n",
    "plt.show()"
   ]
  }
 ],
 "metadata": {
  "kernelspec": {
   "display_name": "Python 3 (ipykernel)",
   "language": "python",
   "name": "python3"
  },
  "language_info": {
   "codemirror_mode": {
    "name": "ipython",
    "version": 3
   },
   "file_extension": ".py",
   "mimetype": "text/x-python",
   "name": "python",
   "nbconvert_exporter": "python",
   "pygments_lexer": "ipython3",
   "version": "3.9.7"
  }
 },
 "nbformat": 4,
 "nbformat_minor": 5
}
